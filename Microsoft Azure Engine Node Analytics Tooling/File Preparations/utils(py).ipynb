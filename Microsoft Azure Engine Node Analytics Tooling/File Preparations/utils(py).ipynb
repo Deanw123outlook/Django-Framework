{
 "cells": [
  {
   "cell_type": "markdown",
   "id": "cd017aa3",
   "metadata": {},
   "source": [
    "### utils.py \n",
    "\n",
    "The Python notebook will act as utils.py file template prepared in advance of building our Node Analytics tooling. This file in the context of Django will act act as function placeholder. Here will build out our functions that we will use in our views.py file on the specific app level followed by rendering this onto the frontend.\n",
    "\n",
    "These functions will be high level data visualizations prepared in advance. Essentially this will enable us to keep our code clean & tidy particularly when working in app level views.py files.\n",
    "\n",
    "These file will updated as we both implement and build out or tooling using Django."
   ]
  },
  {
   "cell_type": "code",
   "execution_count": null,
   "id": "49b07966",
   "metadata": {},
   "outputs": [],
   "source": [
    "# Libraries Required\n",
    "import matplotlib.pyplot as plt\n",
    "import seaborn as sns\n",
    "import plotly.express as px \n",
    "from plotly.subplots import make_subplots\n",
    "import plotly.graph_objects as go"
   ]
  },
  {
   "cell_type": "markdown",
   "id": "06953cd8",
   "metadata": {},
   "source": [
    "#### Function One\n",
    "\n",
    "This function will render the data onto a Histogram where we will be Using Plotly express to visualize the distrubtion of the quantitive discrete data over time .ie the frequency of alerts over time. \n",
    "\n",
    "In terms of subject matter this is highly important information as we can see when our Azure cluster/nodes are under most constraint within a specific time period. \n",
    "\n",
    "This can then be cross analysed against further information and subject matter."
   ]
  },
  {
   "cell_type": "code",
   "execution_count": null,
   "id": "9eb2ef94",
   "metadata": {},
   "outputs": [],
   "source": [
    "def alert_frequency(DATA,X,Y):\n",
    "    # \n",
    "    fig = px.histogram(data_frame = DATA, x = (X), y = (Y),color_discrete_sequence=['red'],\n",
    "                   opacity=0.6, width=1000, height=500 ,histnorm=\"probability\")\n",
    "    #\n",
    "    fig.update_layout(\n",
    "        margin=dict(l=20, r=20, t=20, b=20),\n",
    "        paper_bgcolor=\"LightSteelBlue\",\n",
    "    )\n",
    "    #\n",
    "    fig.show()   "
   ]
  },
  {
   "cell_type": "markdown",
   "id": "8f11f418",
   "metadata": {},
   "source": [
    "#### Function Two\n",
    "\n",
    "This function we will be using a countplot which will enable us to count categorical data for cross analysis. Any categorical data columns we can implement this function (plot) in our toolinh. \n",
    "\n",
    "However, in the context of the current tooling plans we will use this to visualize Client data (simply this will count the inferences of each client ie. how many alerts across clusters | nodes | clients). \n",
    "\n",
    "We will also pull out numerical data using the value_counts() method against the specific column in question.\n",
    "\n",
    "NOTE\n",
    "\n",
    "Function paramaters we must input column as string with 'paranthesis'. The code will not raise an error if this specific parameter is not inputted in this syntax."
   ]
  },
  {
   "cell_type": "code",
   "execution_count": null,
   "id": "062d371c",
   "metadata": {},
   "outputs": [],
   "source": [
    "def client_data(DATA,column,num):\n",
    "    plt.figure(figsize=(25,7))\n",
    "    sns.set_style('darkgrid')\n",
    "    sns.countplot(x = data[(column)], data = DATA)\n",
    "    plt.xticks(rotation = 90)\n",
    "    plt.show ()\n",
    "    #\n",
    "    display(data[(column)].value_counts().head(num))"
   ]
  }
 ],
 "metadata": {
  "kernelspec": {
   "display_name": "Python 3 (ipykernel)",
   "language": "python",
   "name": "python3"
  },
  "language_info": {
   "codemirror_mode": {
    "name": "ipython",
    "version": 3
   },
   "file_extension": ".py",
   "mimetype": "text/x-python",
   "name": "python",
   "nbconvert_exporter": "python",
   "pygments_lexer": "ipython3",
   "version": "3.10.9"
  }
 },
 "nbformat": 4,
 "nbformat_minor": 5
}
